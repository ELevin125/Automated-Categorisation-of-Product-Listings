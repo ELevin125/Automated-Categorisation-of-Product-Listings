{
 "cells": [
  {
   "cell_type": "markdown",
   "metadata": {},
   "source": [
    "# Automated Categorisation of Product Listings"
   ]
  },
  {
   "cell_type": "markdown",
   "metadata": {},
   "source": [
    "## I Introduction"
   ]
  },
  {
   "cell_type": "markdown",
   "metadata": {},
   "source": [
    "### 1. Domain-Specific Area\n",
    "\n",
    "Text classification plays a fundamental role in organising large numbers of available products for e-commerce platforms. In online retail, cast product inventories require efficient organisation and classification to enhance user experience and to streamline the process for the store staff and management. Text classification methods could offer a solution to this challenge by suggesting categories for a product, or even automatically categorising products based on their description. This project will attempt to address the challenge of automating and enhancing the product categorisation process using text classification techniques. Specifically the goal is to accurately assign product descriptions from the product's selling page, to a set of predefined categories, like \"Electronic\", \"Books\", \"Clothing\", etc.\n",
    "\n",
    "Efficient text classification will significantly reduce manual effort from staff (and possibly users) in product categorisation and enhance search accuracy for the users. By automating the categorisation process based on the product's description, this project will attempt to optimise catalog management and organisation.\n",
    "\n",
    "In the context of competitive online markets, accurate product categorisation can influence customer engagement and retention and is therefore essential to an online store. For these reasons this projects domain-specific application in e-commerce holds a substantial amount of potential to streamline operations, improve user interactions, and to provide a competitive edge to online retailers in delivering relevant and possibly even tailored product experiences."
   ]
  },
  {
   "cell_type": "markdown",
   "metadata": {},
   "source": [
    "### 2. Objectives\n",
    "\n",
    "The main objective of this project is to develop a robust product classification model, that is capable of accurately categorising product description into predefined classes related to the e-commerce domain. By achieving this objective, the project aims to optimise the product categorisation process, by reducing and speeding up manual labour and automating the organisation of large numbers of available products. The ultimate end goal would be to enhance the user experience by being able to provide more accurate search results and personalised recommendations based on the product descriptions, however that is beyond the current scope of the project.\n",
    "\n",
    "This project's objectives align with the overarching goal of improving the efficiency and accuracy of online retail platforms by minimising human effort in catalog management. The outcomes of this project hold the potential to demonstrate the effectiveness and potential of automated systems, like automated product categorisation approaches.\n",
    "\n",
    "In short, this project will need to accurately assign product descriptions that would be available on a seller's page, to one of these four categories from the identified dataset:\n",
    "- \"Electronics\"\n",
    "- \"Household\"\n",
    "- \"Books\"\n",
    "- \"Clothing & Accessories\"\n",
    "\n",
    "If this model shows promise, the amount of categories and even sub categories could potentially be future additions."
   ]
  },
  {
   "cell_type": "markdown",
   "metadata": {},
   "source": [
    "### 3. Dataset\n",
    "\n",
    "Dataset Characteristics:\n",
    "- **Size** - The dataset consists of a collection of 50 425 entries.\n",
    "- **Data Types / Structure** - The dataset consist of a singular CSV file with two string columns. The file lacks a header row, but based off of the description, the first column contains the class name, and the second column the product description. There are four possible classes that a product can belong to\n",
    "- **Data Source** - The dataset was accessed via Kaggle at [this link](https://www.kaggle.com/datasets/saurabhshahane/ecommerce-text-classification). It was posted by a user \"Saurabh Shahane\" who based the dataset off of [this dataset](https://zenodo.org/records/3355823) from Zenodo.\n"
   ]
  },
  {
   "cell_type": "markdown",
   "metadata": {},
   "source": [
    "### 4. Evaluation Methodology\n",
    "\n",
    "For evaluating the performance of the text classification model, we will use the following metrics:\n",
    "\n",
    "1. **Accuracy:** \n",
    "   - This metric measures the overall correctness of the model's predictions.\n",
    "   - It represents the percentage of correctly classified descriptions in the test data.\n",
    "\n",
    "2. **Precision and Recall:** \n",
    "   - **Precision:** Measures the accuracy of positive predictions. It indicates the proportion of correctly predicted positive instances out of all instances predicted as positive.\n",
    "   - **Recall:** Measures the ability of the model to find all the positive instances. It shows the proportion of correctly predicted positive instances out of all actual positive instances.\n",
    "\n",
    "Accuracy should give use a rough idea of how well the model performed. However the problem with accuracy is the fact that an unbalanced dataset could result in an inaccurate evaluation of the performance. For this reason it is important to also calculate precision and recall, which should give accurate results, even when the dataset is unbalanced.\n",
    "\n",
    "The metrics calculated from the model's performance, will be compared against a **baseline** to determine if the developed model performs significantly better than a basic approach. This helps in understanding the model's effectiveness.\n",
    "\n",
    "By using these simpler evaluation metrics and comparing against a baseline, we can effectively gauge the performance of the model in classifying product descriptions across multiple categories."
   ]
  },
  {
   "cell_type": "markdown",
   "metadata": {},
   "source": [
    "## II Implementation"
   ]
  },
  {
   "cell_type": "code",
   "execution_count": 2,
   "metadata": {},
   "outputs": [],
   "source": [
    "%%capture\n",
    "# Install the required packages\n",
    "import sys\n",
    "!{sys.executable} -m pip install pandas\n",
    "!{sys.executable} -m pip install seaborn\n",
    "!{sys.executable} -m pip install sklearn\n",
    "!{sys.executable} -m pip install nltk\n",
    "!{sys.executable} -m pip install numpy\n",
    "!{sys.executable} -m pip install matplotlib"
   ]
  },
  {
   "cell_type": "markdown",
   "metadata": {},
   "source": [
    "### 5. Preprocessing\n",
    "\n",
    "The dataset is in the form of a two column, CSV file."
   ]
  },
  {
   "cell_type": "code",
   "execution_count": 3,
   "metadata": {},
   "outputs": [
    {
     "data": {
      "text/html": [
       "<div>\n",
       "<style scoped>\n",
       "    .dataframe tbody tr th:only-of-type {\n",
       "        vertical-align: middle;\n",
       "    }\n",
       "\n",
       "    .dataframe tbody tr th {\n",
       "        vertical-align: top;\n",
       "    }\n",
       "\n",
       "    .dataframe thead th {\n",
       "        text-align: right;\n",
       "    }\n",
       "</style>\n",
       "<table border=\"1\" class=\"dataframe\">\n",
       "  <thead>\n",
       "    <tr style=\"text-align: right;\">\n",
       "      <th></th>\n",
       "      <th>Category</th>\n",
       "      <th>Description</th>\n",
       "    </tr>\n",
       "  </thead>\n",
       "  <tbody>\n",
       "    <tr>\n",
       "      <th>0</th>\n",
       "      <td>Household</td>\n",
       "      <td>Paper Plane Design Framed Wall Hanging Motivat...</td>\n",
       "    </tr>\n",
       "    <tr>\n",
       "      <th>1</th>\n",
       "      <td>Household</td>\n",
       "      <td>SAF 'Floral' Framed Painting (Wood, 30 inch x ...</td>\n",
       "    </tr>\n",
       "    <tr>\n",
       "      <th>2</th>\n",
       "      <td>Household</td>\n",
       "      <td>SAF 'UV Textured Modern Art Print Framed' Pain...</td>\n",
       "    </tr>\n",
       "    <tr>\n",
       "      <th>3</th>\n",
       "      <td>Household</td>\n",
       "      <td>SAF Flower Print Framed Painting (Synthetic, 1...</td>\n",
       "    </tr>\n",
       "    <tr>\n",
       "      <th>4</th>\n",
       "      <td>Household</td>\n",
       "      <td>Incredible Gifts India Wooden Happy Birthday U...</td>\n",
       "    </tr>\n",
       "  </tbody>\n",
       "</table>\n",
       "</div>"
      ],
      "text/plain": [
       "    Category                                        Description\n",
       "0  Household  Paper Plane Design Framed Wall Hanging Motivat...\n",
       "1  Household  SAF 'Floral' Framed Painting (Wood, 30 inch x ...\n",
       "2  Household  SAF 'UV Textured Modern Art Print Framed' Pain...\n",
       "3  Household  SAF Flower Print Framed Painting (Synthetic, 1...\n",
       "4  Household  Incredible Gifts India Wooden Happy Birthday U..."
      ]
     },
     "execution_count": 3,
     "metadata": {},
     "output_type": "execute_result"
    }
   ],
   "source": [
    "import pandas as pd\n",
    "\n",
    "# Load the dataset\n",
    "file_path = \"./data/ecommerceDataset.csv\"\n",
    "all_data = pd.read_csv(file_path, header=None, names=[\"Category\", \"Description\"])\n",
    "\n",
    "all_data.head()"
   ]
  },
  {
   "cell_type": "code",
   "execution_count": 4,
   "metadata": {},
   "outputs": [
    {
     "data": {
      "text/plain": [
       "Category       0\n",
       "Description    1\n",
       "dtype: int64"
      ]
     },
     "execution_count": 4,
     "metadata": {},
     "output_type": "execute_result"
    }
   ],
   "source": [
    "# Check for missing values\n",
    "all_data.isnull().sum()"
   ]
  },
  {
   "cell_type": "markdown",
   "metadata": {},
   "source": [
    "The dataset has missing data. The dataset is fortunately large enough that simply removing the entries with missing values will still leave a large enough dataset to work with."
   ]
  },
  {
   "cell_type": "code",
   "execution_count": 5,
   "metadata": {},
   "outputs": [],
   "source": [
    "all_data.dropna(inplace=True)"
   ]
  },
  {
   "cell_type": "code",
   "execution_count": 6,
   "metadata": {},
   "outputs": [
    {
     "name": "stdout",
     "output_type": "stream",
     "text": [
      "Number of entries in the dataframe: 50424\n"
     ]
    }
   ],
   "source": [
    "num_entries = all_data.shape[0]\n",
    "print(\"Number of entries in the dataframe:\", num_entries)"
   ]
  },
  {
   "cell_type": "markdown",
   "metadata": {},
   "source": [
    "The dataset is very large. This causes a significant slowdown and long training times during development, as the hardware that is being used is not that powerful. For this reason I will only be sampling 25 000 random entries (50% of total data) from the dataset, to make it more manageable to work with.\n",
    "\n",
    "The random state is also assigned to ensure that I am able to consistently recreate results."
   ]
  },
  {
   "cell_type": "code",
   "execution_count": 7,
   "metadata": {},
   "outputs": [],
   "source": [
    "RANDOM_STATE = 16\n",
    "\n",
    "sampled_data = all_data.sample(n=25000, random_state=RANDOM_STATE)\n",
    "sampled_data.reset_index(drop=True, inplace=True)"
   ]
  },
  {
   "cell_type": "code",
   "execution_count": 8,
   "metadata": {},
   "outputs": [
    {
     "name": "stdout",
     "output_type": "stream",
     "text": [
      "Number of entries per category\n",
      "--------------------------------\n"
     ]
    },
    {
     "data": {
      "text/plain": [
       "Household                 9504\n",
       "Books                     5870\n",
       "Electronics               5321\n",
       "Clothing & Accessories    4305\n",
       "Name: Category, dtype: int64"
      ]
     },
     "execution_count": 8,
     "metadata": {},
     "output_type": "execute_result"
    }
   ],
   "source": [
    "print(\"Number of entries per category\\n\" + \"-\" * 32)\n",
    "\n",
    "sampled_data[\"Category\"].value_counts()"
   ]
  },
  {
   "cell_type": "code",
   "execution_count": 9,
   "metadata": {},
   "outputs": [
    {
     "name": "stdout",
     "output_type": "stream",
     "text": [
      "The possible product categories are:\n",
      "- Books\n",
      "- Electronics\n",
      "- Household\n",
      "- Clothing & Accessories\n"
     ]
    }
   ],
   "source": [
    "categories = list(sampled_data[\"Category\"].unique())\n",
    "print(\"The possible product categories are:\" + \"\".join([\"\\n- \" + c for c in categories]))"
   ]
  },
  {
   "cell_type": "code",
   "execution_count": 10,
   "metadata": {},
   "outputs": [
    {
     "name": "stderr",
     "output_type": "stream",
     "text": [
      "[nltk_data] Downloading package stopwords to\n",
      "[nltk_data]     C:\\Users\\KarelKat\\AppData\\Roaming\\nltk_data...\n",
      "[nltk_data]   Package stopwords is already up-to-date!\n"
     ]
    }
   ],
   "source": [
    "import re\n",
    "import nltk\n",
    "from nltk.corpus import stopwords\n",
    "\n",
    "nltk.download(\"stopwords\")\n",
    "stop_words = set(stopwords.words(\"english\"))\n",
    "\n",
    "# Remove any possible symbols that would be in the text\n",
    "def remove_symbols(text):\n",
    "    return re.sub(r\"[^\\w\\s]\", \"\", text)\n",
    "\n",
    "# Remove the stopwords from text\n",
    "def remove_stopwords(text):\n",
    "    words = text.split()\n",
    "    filtered_words = [word for word in words if word.lower() not in stop_words]  # Remove stopwords\n",
    "    return \" \".join(filtered_words)  # Join the words back into one string\n",
    "\n",
    "def filter_text(text):\n",
    "    text = remove_symbols(text)\n",
    "    text = remove_stopwords(text)\n",
    "    return text\n",
    "\n",
    "sampled_data[\"Description\"] = sampled_data[\"Description\"].apply(filter_text)"
   ]
  },
  {
   "cell_type": "markdown",
   "metadata": {},
   "source": [
    "Splitting the data into a training and test set. It is split to be 20% test data and 80% training data."
   ]
  },
  {
   "cell_type": "code",
   "execution_count": 11,
   "metadata": {},
   "outputs": [],
   "source": [
    "from sklearn.model_selection import train_test_split\n",
    "\n",
    "X = sampled_data[\"Description\"]\n",
    "y = sampled_data[\"Category\"]\n",
    "\n",
    "X_train, X_test, y_train, y_test = train_test_split(X, y, test_size=0.2, random_state=RANDOM_STATE)"
   ]
  },
  {
   "cell_type": "markdown",
   "metadata": {},
   "source": [
    "### 6. Baseline Performance"
   ]
  },
  {
   "cell_type": "code",
   "execution_count": 12,
   "metadata": {},
   "outputs": [],
   "source": [
    "from sklearn.metrics import accuracy_score, precision_score, recall_score\n",
    "\n",
    "# Helper function to calculate accuracy, precision and recall\n",
    "def get_predict_stats(test_data, predictions):\n",
    "    predict_accuracy = accuracy_score(test_data, predictions)\n",
    "    predict_precision = precision_score(test_data, predictions, average=\"weighted\", zero_division=0)\n",
    "    predict_recall = recall_score(test_data, predictions, average=\"weighted\", zero_division=0)\n",
    "    return { \n",
    "        \"predict_accuracy\": predict_accuracy, \n",
    "        \"predict_precision\": predict_precision, \n",
    "        \"predict_recall\": predict_recall \n",
    "    }"
   ]
  },
  {
   "cell_type": "markdown",
   "metadata": {},
   "source": [
    "In order to measure if the model developed is good, a baseline performance is calculated to use as a reference point. The very simplest method for a baseline would involve picking a random label, resulting in a 25% (1/4) chance of being correct if the dataset is evenly divided. These odds can however be improved, even without using a complex model. Instead the model implemented will need to beat a slightly more complex baseline as well. The advanced baseline will work by selecting the product category that appears most often, and then use that category as the predicted category for all product descriptions in the test set. This method serves as an educated guess, rather than randomly selecting a label."
   ]
  },
  {
   "cell_type": "code",
   "execution_count": 13,
   "metadata": {},
   "outputs": [
    {
     "name": "stdout",
     "output_type": "stream",
     "text": [
      "Baseline Precision and Recall:\n",
      "------------------------------\n",
      "Random Baseline:\n",
      "  Accuracy: 24.80%\n",
      "  Precision: 27.07%\n",
      "  Recall: 24.80%\n",
      "\n",
      "Most Frequent Class Baseline:\n",
      "  Accuracy: 37.54%\n",
      "  Precision: 14.09%\n",
      "  Recall: 37.54%\n"
     ]
    }
   ],
   "source": [
    "import random\n",
    "\n",
    "# Seed the random methods to ensure consistent and repeatable results\n",
    "random.seed(RANDOM_STATE)\n",
    "\n",
    "def random_category():\n",
    "    return random.choice(categories)\n",
    "\n",
    "# Find and return most populated class in the data\n",
    "def most_common_category(data):\n",
    "    count_per_category = dict(data[\"Category\"].value_counts())\n",
    "    max_key = max(count_per_category, key=count_per_category.get)\n",
    "    return max_key\n",
    "\n",
    "\n",
    "print(\"Baseline Precision and Recall:\\n\" + \"-\" * 30)\n",
    "# Precision and Recall for Random Baseline\n",
    "print(\"Random Baseline:\")\n",
    "random_predictions = [random_category() for _ in range(len(y_test))]\n",
    "random_stats = get_predict_stats(y_test, random_predictions)\n",
    "print(f\"  Accuracy: {(random_stats['predict_accuracy'] * 100):.2f}%\")\n",
    "print(f\"  Precision: {(random_stats['predict_precision'] * 100):.2f}%\")\n",
    "print(f\"  Recall: {(random_stats['predict_recall'] * 100):.2f}%\")\n",
    "\n",
    "# Precision and Recall for Most Frequent Baseline\n",
    "print(\"\\nMost Frequent Class Baseline:\")\n",
    "most_common_class = most_common_category(sampled_data)\n",
    "frequent_predictions = [most_common_class for _ in range(len(y_test))]\n",
    "frequent_stats = get_predict_stats(y_test, frequent_predictions)\n",
    "print(f\"  Accuracy: {(frequent_stats['predict_accuracy'] * 100):.2f}%\")\n",
    "print(f\"  Precision: {(frequent_stats['predict_precision'] * 100):.2f}%\")\n",
    "print(f\"  Recall: {(frequent_stats['predict_recall'] * 100):.2f}%\")"
   ]
  },
  {
   "cell_type": "markdown",
   "metadata": {},
   "source": [
    "### 7. Classification Approach"
   ]
  },
  {
   "cell_type": "markdown",
   "metadata": {},
   "source": [
    "The purpose of the model is to categorise products based on their descriptions. The \"Description\" column is utilised as the feature (\"X\") while the \"Category\" column serves as the label / category (\"y\"). This selection was made with the assumption that the product description would carry some valuable information relating to the type of product it is.\n",
    "\n",
    "For the model, the Naïve Bayes algorithm was selected, specifically \"MultinomialNB\" from the \"sklearn\" library. This approach should be effective to classify data into multiple classes."
   ]
  },
  {
   "cell_type": "code",
   "execution_count": 14,
   "metadata": {},
   "outputs": [],
   "source": [
    "from sklearn.feature_extraction.text import TfidfVectorizer\n",
    "from sklearn.naive_bayes import MultinomialNB\n",
    "from sklearn.pipeline import make_pipeline\n",
    "\n",
    "# Set up the model pipeline\n",
    "# The product descriptions will be vectorised into numerical features to allow\n",
    "#  us to use Naive Bayes to calculate which product class should be selected\n",
    "model = make_pipeline(TfidfVectorizer(), MultinomialNB())"
   ]
  },
  {
   "cell_type": "code",
   "execution_count": 15,
   "metadata": {},
   "outputs": [],
   "source": [
    "# Apply the training data to model and predict from test data\n",
    "model.fit(X_train, y_train)\n",
    "predicted_categories = model.predict(X_test)"
   ]
  },
  {
   "cell_type": "markdown",
   "metadata": {},
   "source": [
    "## III Conclusion"
   ]
  },
  {
   "cell_type": "markdown",
   "metadata": {},
   "source": [
    "### 8. Evaluation"
   ]
  },
  {
   "cell_type": "markdown",
   "metadata": {},
   "source": [
    "The confusion matrix will illustrates the model's performance across different categories"
   ]
  },
  {
   "cell_type": "code",
   "execution_count": 16,
   "metadata": {},
   "outputs": [
    {
     "data": {
      "image/png": "[encoded data removed]",
      "text/plain": [
       "<Figure size 640x480 with 1 Axes>"
      ]
     },
     "metadata": {},
     "output_type": "display_data"
    },
    {
     "name": "stdout",
     "output_type": "stream",
     "text": [
      "\n",
      "\n",
      "Category incorrectly labelled the most: Clothing & Accessories\n",
      "Category incorrectly predicted the most: Household\n"
     ]
    }
   ],
   "source": [
    "import numpy as np\n",
    "import seaborn as sns\n",
    "import matplotlib.pyplot as plt\n",
    "from sklearn.metrics import confusion_matrix\n",
    "\n",
    "conf_matrix = confusion_matrix(y_test, predicted_categories)\n",
    "sns.heatmap(conf_matrix.T, square=True, annot=True, fmt=\"d\", cbar=False, xticklabels=categories, yticklabels=categories)\n",
    "plt.xlabel(\"True Categories\")\n",
    "plt.ylabel(\"Predicted Categories\")\n",
    "plt.title(\"Confusion Matrix for Predicted vs True categories of products\")\n",
    "plt.show()\n",
    "\n",
    "\n",
    "\n",
    "conf_matrix_df = pd.DataFrame(conf_matrix, index=categories, columns=categories)\n",
    "# Fill diagonal elements (correctly predicted) with zeros to prevent correct identifications from being counted\n",
    "np.fill_diagonal(conf_matrix_df.values, 0)\n",
    "\n",
    "most_labelled_category = conf_matrix_df.sum(axis=0).idxmax()\n",
    "most_incorrect_category = conf_matrix_df.sum(axis=1).idxmax()\n",
    "\n",
    "print(\"\\n\")\n",
    "print(\"Category incorrectly labelled the most:\", most_labelled_category)\n",
    "print(\"Category incorrectly predicted the most:\", most_incorrect_category)"
   ]
  },
  {
   "cell_type": "markdown",
   "metadata": {},
   "source": [
    "As can be seen from the confusion matrix, the model does correctly identify most products. Something to note is that it does often incorrectly categorise products as \"Clothing & Accessories\". This could possibly be due to accessories covering a large variety of items that could confuse the model. Another possible explanation could be due to a lack of training data. On the other hand, \"Household\" category predictions are the least accurate according to the confusion matrix. The model often confuses \"Household\" for \"Clothing & Accessories\""
   ]
  },
  {
   "cell_type": "code",
   "execution_count": 17,
   "metadata": {},
   "outputs": [
    {
     "name": "stdout",
     "output_type": "stream",
     "text": [
      "Evaluating Model Performance:\n",
      "------------------------------\n",
      "Best Baseline (Most Frequent Class):\n",
      "Accuracy: 37.54%\n",
      "Precision: 14.09%\n",
      "Recall: 37.54%\n",
      "\n",
      "Model:\n",
      "Accuracy: 93.04%\n",
      "Precision: 93.49%\n",
      "Recall: 93.04%\n"
     ]
    }
   ],
   "source": [
    "model_stats = get_predict_stats(y_test, predicted_categories)\n",
    "print(\"Evaluating Model Performance:\\n\" + \"-\" * 30)\n",
    "print(\"Best Baseline (Most Frequent Class):\")\n",
    "print(f\"Accuracy: {(frequent_stats['predict_accuracy'] * 100):.2f}%\")\n",
    "print(f\"Precision: {(frequent_stats['predict_precision'] * 100):.2f}%\")\n",
    "print(f\"Recall: {(frequent_stats['predict_recall'] * 100):.2f}%\")\n",
    "\n",
    "print(\"\\nModel:\")\n",
    "print(f\"Accuracy: {(model_stats['predict_accuracy'] * 100):.2f}%\")\n",
    "print(f\"Precision: {(model_stats['predict_precision'] * 100):.2f}%\")\n",
    "print(f\"Recall: {(model_stats['predict_recall'] * 100):.2f}%\")"
   ]
  },
  {
   "cell_type": "markdown",
   "metadata": {},
   "source": [
    "The baseline model serves as a benchmark for comparison.\n",
    "\n",
    "The developed model significantly outperformed the baseline in all metrics, showcasing its effectiveness in classifying product categories based on their descriptions.\n",
    "\n",
    "The evaluation metrics illustrate that the developed model, utilizing the Naïve Bayes algorithm with TF-IDF vectorization, performs significantly better than the baseline approach. It demonstrates high accuracy, precision, and recall, indicating its efficacy in categorizing product descriptions into respective classes."
   ]
  },
  {
   "cell_type": "markdown",
   "metadata": {},
   "source": [
    "### 9. Summary and Conclusion"
   ]
  },
  {
   "cell_type": "markdown",
   "metadata": {},
   "source": [
    "This project set out to address the challenge of automating and refining the product categorisation process within e-commerce, using text classification. Accurate text classification can help to reduce the total manual work load required to categorise large catalogs of products. This project showed that it is possible to accurately and efficiently classify products based on the already existing product description, in order to achieve this. This benefit could also extend to the end user or customer, by possibly providing more appropriate search results and to streamline the operations's efficiency. The contribution made by this project is in showing that implementing an automated system like this is not only possible, but also effective.\n",
    "\n",
    "The approach used in this project, was Naïve Bayes with TF-IDF vectorization. As for the input data used, not too much pre-processing was required, aside from removing symbols, stopwords and any blank or missing entries. This approach could easily be applied on other domains that require some form of text categorisation as well. The methods used were able to distinguish between both similar and vastly different types of categories, showing its adaptability. While the techniques should be easily transferable to a different programming language / environment is possible, the specific implementation in this project heavily relies on using external libraries, varying from loading the training data, to the model itself. For this reason a one to one conversion would be impossible, unless other similar libraries exist in the desired programming language.\n",
    "\n",
    "The methods that were used in this project was able to produce a satisfactory results, however it is not perfect. Alternative methods could possible result in a better model. One example of an alternative approach might be some form of Neural Network. A model like this is much more complex, and could possibly result in a better performing model at the end, but there are some problems. Training a neural network is much more intensive than training a simple model like this, so more processing power will be needed. Additionally, these models require a lot more tuning, to prevent problems such as overfitting.\n",
    "\n",
    "In conclusion, the project managed to achieve the goal it set out to do, by developing a relatively accurate text classification model, capable of automatically categorising products."
   ]
  }
 ],
 "metadata": {
  "kernelspec": {
   "display_name": "Python 3",
   "language": "python",
   "name": "python3"
  },
  "language_info": {
   "codemirror_mode": {
    "name": "ipython",
    "version": 3
   },
   "file_extension": ".py",
   "mimetype": "text/x-python",
   "name": "python",
   "nbconvert_exporter": "python",
   "pygments_lexer": "ipython3",
   "version": "3.10.5"
  }
 },
 "nbformat": 4,
 "nbformat_minor": 2
}
